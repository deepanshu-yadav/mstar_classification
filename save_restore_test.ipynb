{
 "cells": [
  {
   "cell_type": "code",
   "execution_count": 4,
   "metadata": {},
   "outputs": [],
   "source": [
    "# import os\n",
    "# print(os.getcwd())"
   ]
  },
  {
   "cell_type": "code",
   "execution_count": 5,
   "metadata": {},
   "outputs": [],
   "source": [
    "# from src.pre_processing import get_data as g\n",
    "# from src.plotting import plotter as ptr"
   ]
  },
  {
   "cell_type": "code",
   "execution_count": 6,
   "metadata": {},
   "outputs": [],
   "source": [
    "# BASE_PATH = os.path.join( os.getcwd(),'datasets' ,'SARBake'  )\n",
    "# X , Y, cls_train ,cls_test , labels_train , labels_test, class_names  =g.get_full_dataset(BASE_PATH,200,200,80,20)\n",
    "# print(X.shape)\n",
    "# print(class_names)\n",
    "\n",
    "# images = Y[0,0:9,:,:,:]\n",
    "\n",
    "# # Get the true classes for those images.\n",
    "# cls_true = cls_test[0:9]\n",
    "\n",
    "# # Plot the images and labels using our helper-function above.\n",
    "# ptr.plot_images(images=images, cls_true=cls_true, class_names=class_names ,smooth=False)\n",
    "\n",
    "\n",
    "# print()"
   ]
  },
  {
   "cell_type": "code",
   "execution_count": 7,
   "metadata": {},
   "outputs": [],
   "source": [
    "#print(Y.shape)"
   ]
  },
  {
   "cell_type": "code",
   "execution_count": 8,
   "metadata": {},
   "outputs": [],
   "source": [
    "#print(X.shape)"
   ]
  },
  {
   "cell_type": "code",
   "execution_count": 9,
   "metadata": {},
   "outputs": [],
   "source": [
    "#print(cls_train.shape)"
   ]
  },
  {
   "cell_type": "code",
   "execution_count": 10,
   "metadata": {},
   "outputs": [],
   "source": [
    "#print(cls_train)"
   ]
  },
  {
   "cell_type": "code",
   "execution_count": 11,
   "metadata": {},
   "outputs": [],
   "source": [
    "#print(cls_test)"
   ]
  },
  {
   "cell_type": "code",
   "execution_count": 12,
   "metadata": {},
   "outputs": [],
   "source": [
    "#print(labels_train.shape)"
   ]
  },
  {
   "cell_type": "code",
   "execution_count": 13,
   "metadata": {},
   "outputs": [],
   "source": [
    "#print(labels_train)"
   ]
  },
  {
   "cell_type": "code",
   "execution_count": 14,
   "metadata": {},
   "outputs": [],
   "source": [
    "#print(labels_test)"
   ]
  },
  {
   "cell_type": "code",
   "execution_count": 15,
   "metadata": {},
   "outputs": [],
   "source": [
    "#len(X)"
   ]
  },
  {
   "cell_type": "code",
   "execution_count": 16,
   "metadata": {},
   "outputs": [],
   "source": [
    "#len(labels_train)"
   ]
  },
  {
   "cell_type": "code",
   "execution_count": 17,
   "metadata": {},
   "outputs": [],
   "source": [
    "# #import numpy as np\n",
    "\n",
    "\n",
    "# idx = np.random.choice(len(labels_train),\n",
    "#                                size = 16,\n",
    "#                                replace=False)\n",
    "\n",
    "\n",
    "# X_dash=X[idx]"
   ]
  },
  {
   "cell_type": "code",
   "execution_count": 18,
   "metadata": {},
   "outputs": [],
   "source": [
    "# print(X_dash.shape)"
   ]
  },
  {
   "cell_type": "code",
   "execution_count": null,
   "metadata": {},
   "outputs": [],
   "source": []
  },
  {
   "cell_type": "code",
   "execution_count": null,
   "metadata": {},
   "outputs": [],
   "source": []
  },
  {
   "cell_type": "code",
   "execution_count": null,
   "metadata": {},
   "outputs": [],
   "source": []
  },
  {
   "cell_type": "code",
   "execution_count": 1,
   "metadata": {},
   "outputs": [],
   "source": [
    "from src.tensor_utilities.models import *\n",
    "from src.tensor_utilities.training import *\n",
    "\n",
    "import os\n",
    "from src.pre_processing import get_data as g"
   ]
  },
  {
   "cell_type": "markdown",
   "metadata": {},
   "source": [
    "<h1> epoch 600 training data 4000 examples </h1>"
   ]
  },
  {
   "cell_type": "code",
   "execution_count": 1,
   "metadata": {},
   "outputs": [],
   "source": [
    "from src.tensor_utilities.models import *\n",
    "from src.tensor_utilities.training import *\n",
    "\n",
    "import os\n",
    "from src.pre_processing import get_data as g\n",
    "\n",
    "\n",
    "def build_and_train():\n",
    "    #os.chdir(\"../../\")\n",
    "    img_size = 200\n",
    "    num_channels = 3\n",
    "    no_training = 400\n",
    "    no_test = 100\n",
    "    learning_rate = 0.00001\n",
    "    no_of_epochs = 600\n",
    "\n",
    "    BASE_PATH = os.path.join(os.getcwd(), 'datasets', 'SARBake')\n",
    "    X, Y, cls_train, cls_test, labels_train, labels_test, class_names = g.get_full_dataset(BASE_PATH, img_size, img_size, no_training, no_test)\n",
    "    num_classes = len(class_names)\n",
    "\n",
    "    model = Model()\n",
    "\n",
    "    with model.graph.as_default():\n",
    "        x = tf.placeholder(tf.float32, shape=[None, img_size, img_size, num_channels], name='x')\n",
    "        y_true = tf.placeholder(tf.float32, shape=[None, num_classes], name='y_true')\n",
    "        y_true_cls = tf.argmax(y_true, dimension=1)\n",
    "        model.getsimpleCNNModel(x, num_classes)\n",
    "\n",
    "        model.getLoss(y_true)\n",
    "\n",
    "        global_step = tf.Variable(initial_value=0,\n",
    "                                  name='global_step', trainable=False)\n",
    "\n",
    "        model.getOptimizer(global_step=global_step, learning_rate=learning_rate)\n",
    "\n",
    "        y_true_cls = tf.argmax(y_true, dimension=1)\n",
    "\n",
    "        y_pred_cls = tf.argmax(model.pred, dimension=1)\n",
    "\n",
    "        correct_prediction = tf.equal(  y_pred_cls , y_true_cls)\n",
    "\n",
    "        accuracy = tf.reduce_mean(tf.cast(correct_prediction, tf.float32))\n",
    "\n",
    "        train = Train(learning_rate=learning_rate, bath_size=32, no_of_epochs=no_of_epochs, graph=model.graph,accuracy=accuracy ,loss=model.loss)\n",
    "\n",
    "        train.optimize(x, y_true, global_step, model.optimizer, accuracy, X, labels_train, if_restore=True)\n",
    "\n",
    "        train.print_test_accuracy(x=x,y_true=y_true,y_pred_cls=y_pred_cls,images_test=Y,labels_test=labels_test,cls_test=cls_test,class_names=class_names,show_confusion_matrix=True)\n",
    "\n",
    "\n",
    "\n",
    "\n",
    "\n",
    "\n",
    "\n",
    "\n",
    "\n",
    "\n",
    "\n",
    "\n"
   ]
  },
  {
   "cell_type": "markdown",
   "metadata": {},
   "source": [
    "<h1> further increasing epochs doesnot improve accuracy  </h2>"
   ]
  },
  {
   "cell_type": "code",
   "execution_count": 23,
   "metadata": {},
   "outputs": [
    {
     "name": "stdout",
     "output_type": "stream",
     "text": [
      "0\n",
      "0\n",
      "0\n",
      "0\n",
      "0\n",
      "0\n",
      "0\n",
      "0\n",
      "0\n",
      "0\n"
     ]
    },
    {
     "name": "stderr",
     "output_type": "stream",
     "text": [
      "C:\\Users\\Dell\\Anaconda3\\lib\\site-packages\\h5py\\__init__.py:36: FutureWarning: Conversion of the second argument of issubdtype from `float` to `np.floating` is deprecated. In future, it will be treated as `np.float64 == np.dtype(float).type`.\n",
      "  from ._conv import register_converters as _register_converters\n"
     ]
    },
    {
     "name": "stdout",
     "output_type": "stream",
     "text": [
      "Global Step:    100, Training Batch Accuracy:  31.2%\n",
      "Global Step:    200, Training Batch Accuracy:  71.9%\n",
      "Global Step:    300, Training Batch Accuracy:  71.9%\n",
      "Global Step:    400, Training Batch Accuracy:  78.1%\n",
      "Global Step:    500, Training Batch Accuracy:  90.6%\n",
      "Global Step:    600, Training Batch Accuracy:  90.6%\n",
      "1000\n",
      "Accuracy on Test-Set: 72.9% (729 / 1000)\n",
      "Confusion Matrix:\n",
      "[94  0  0  0  4  1  0  0  0  1] (0) 2S1\n",
      "[ 3 70  1  2 14  0  0  9  0  1] (1) BMP2\n",
      "[ 0  0 96  0  1  0  1  0  1  1] (2) BRDM2\n",
      "[ 0 14  2 22 10  0  0  2  0 50] (3) BTR60\n",
      "[ 2  6  1  2 15  0  0  2  0 72] (4) BTR70\n",
      "[ 3  0  0  2  0 92  1  0  1  1] (5) D7\n",
      "[12  0  5  0  0  3 68  0 10  2] (6) T62\n",
      "[ 1 11  1  1  1  0  0 84  0  1] (7) T72\n",
      "[ 2  0  1  0  0  3  0  0 93  1] (8) ZIL131\n",
      "[ 1  0  1  0  0  1  1  0  1 95] (9) ZSU23\n",
      "(0)(1)(2)(3)(4)(5)(6)(7)(8)(9)\n"
     ]
    }
   ],
   "source": [
    "build_and_train()"
   ]
  },
  {
   "cell_type": "markdown",
   "metadata": {},
   "source": [
    "<h1> increasing training data to 6000 and 1100 epochs</h1>"
   ]
  },
  {
   "cell_type": "code",
   "execution_count": 25,
   "metadata": {},
   "outputs": [
    {
     "name": "stdout",
     "output_type": "stream",
     "text": [
      "INFO:tensorflow:Restoring parameters from checkpoints/best_validation\n"
     ]
    }
   ],
   "source": [
    "# img_size = 200\n",
    "# num_channels = 3\n",
    "# no_training = 400\n",
    "# no_test = 100\n",
    "# learning_rate = 0.00001\n",
    "# no_of_epochs = 600\n",
    "\n",
    "# num_classes = 10\n",
    "\n",
    "# model = Model()\n",
    "\n",
    "# with model.graph.as_default():\n",
    "#     x = tf.placeholder(tf.float32, shape=[None, img_size, img_size, num_channels], name='x')\n",
    "#     y_true = tf.placeholder(tf.float32, shape=[None, num_classes], name='y_true')\n",
    "#     y_true_cls = tf.argmax(y_true, dimension=1)\n",
    "#     model.getsimpleCNNModel(x, num_classes)\n",
    "\n",
    "#     model.getLoss(y_true)\n",
    "\n",
    "#     global_step = tf.Variable(initial_value=0,\n",
    "#                                   name='global_step', trainable=False)\n",
    "\n",
    "#     model.getOptimizer(global_step=global_step, learning_rate=learning_rate)\n",
    "\n",
    "#     y_true_cls = tf.argmax(y_true, dimension=1)\n",
    "\n",
    "#     y_pred_cls = tf.argmax(model.pred, dimension=1)\n",
    "\n",
    "#     correct_prediction = tf.equal(  y_pred_cls , y_true_cls)\n",
    "\n",
    "#     accuracy = tf.reduce_mean(tf.cast(correct_prediction, tf.float32))\n",
    "\n",
    "#     train = Train(learning_rate=learning_rate, bath_size=32, no_of_epochs=no_of_epochs, graph=model.graph,accuracy=accuracy ,loss=model.loss)\n",
    "\n",
    "#     train.saver.restore(sess=train.session,save_path=train.save_path)\n",
    "\n",
    "\n"
   ]
  },
  {
   "cell_type": "code",
   "execution_count": 2,
   "metadata": {},
   "outputs": [],
   "source": [
    "def build_restore_train():\n",
    "    #os.chdir(\"../../\")\n",
    "    img_size = 100\n",
    "    num_channels = 3\n",
    "    no_training = 50\n",
    "    no_test = 10\n",
    "    learning_rate = 0.00001\n",
    "    no_of_epochs = 2\n",
    "\n",
    "    BASE_PATH = os.path.join(os.getcwd(), 'datasets', 'SARBake')\n",
    "    X, Y, cls_train, cls_test, labels_train, labels_test, class_names = g.get_datset_in_batch(BASE_PATH, img_size, img_size, no_training, no_test)\n",
    "    num_classes = len(class_names)\n",
    "\n",
    "    model = Model()\n",
    "\n",
    "    with model.graph.as_default():\n",
    "        x = tf.placeholder(tf.float32, shape=[None, img_size, img_size, num_channels], name='x')\n",
    "        y_true = tf.placeholder(tf.float32, shape=[None, num_classes], name='y_true')\n",
    "        model.getsimpleCNNModel(x, num_classes)\n",
    "\n",
    "        model.getLoss(y_true)\n",
    "\n",
    "        global_step = tf.Variable(initial_value=0,\n",
    "                                  name='global_step', trainable=False)\n",
    "\n",
    "        model.getOptimizer(global_step=global_step, learning_rate=learning_rate)\n",
    "\n",
    "        model.getAccuracy(y_true)\n",
    "       \n",
    "        train = Train(learning_rate=learning_rate, bath_size=80, no_of_epochs=no_of_epochs, graph=model.graph,accuracy=model.accuracy ,loss=model.loss)\n",
    "        \n",
    "        #train.saver.restore(sess=train.session,save_path=train.save_path)\n",
    "        \n",
    "        train.optimize(x, y_true, global_step, model.optimizer, model.accuracy, X, labels_train,Y , labels_test )\n",
    "\n",
    "        train.print_test_accuracy(x=x,y_true=y_true,y_pred_cls=model.class_predicted,images_test=Y,labels_test=labels_test,cls_test=cls_test,class_names=class_names,show_confusion_matrix=True,show_example_errors=True)\n",
    "\n",
    "\n",
    "\n",
    "\n",
    "\n",
    "\n",
    "\n",
    "\n"
   ]
  },
  {
   "cell_type": "code",
   "execution_count": 3,
   "metadata": {
    "scrolled": false
   },
   "outputs": [
    {
     "name": "stdout",
     "output_type": "stream",
     "text": [
      "0\n",
      "0\n",
      "0\n",
      "0\n",
      "0\n",
      "0\n",
      "0\n",
      "0\n",
      "0\n",
      "0\n"
     ]
    },
    {
     "name": "stderr",
     "output_type": "stream",
     "text": [
      "C:\\Users\\Dell\\Anaconda3\\lib\\site-packages\\h5py\\__init__.py:36: FutureWarning: Conversion of the second argument of issubdtype from `float` to `np.floating` is deprecated. In future, it will be treated as `np.float64 == np.dtype(float).type`.\n",
      "  from ._conv import register_converters as _register_converters\n"
     ]
    },
    {
     "name": "stdout",
     "output_type": "stream",
     "text": [
      "Global Step:      2, Training Batch Accuracy:  16.2%\n",
      "100\n",
      "Accuracy on Test-Set: 15.0% (15 / 100)\n",
      "Example errors:\n"
     ]
    },
    {
     "data": {
      "image/png": "[encoded data removed]",
      "text/plain": [
       "<matplotlib.figure.Figure at 0x1e8b71899e8>"
      ]
     },
     "metadata": {},
     "output_type": "display_data"
    },
    {
     "name": "stdout",
     "output_type": "stream",
     "text": [
      "Confusion Matrix:\n",
      "[5 0 1 1 0 0 2 1 0 0] (0) 2S1\n",
      "[4 0 0 0 0 0 5 1 0 0] (1) BMP2\n",
      "[2 0 0 0 0 0 6 2 0 0] (2) BRDM2\n",
      "[2 0 1 1 1 0 3 1 0 1] (3) BTR60\n",
      "[5 0 1 0 0 0 3 1 0 0] (4) BTR70\n",
      "[2 0 1 0 0 0 6 1 0 0] (5) D7\n",
      "[1 0 0 0 0 0 8 1 0 0] (6) T62\n",
      "[5 0 0 2 0 0 2 1 0 0] (7) T72\n",
      "[2 0 1 0 0 0 6 1 0 0] (8) ZIL131\n",
      "[4 0 0 0 0 0 5 1 0 0] (9) ZSU23\n",
      "(0)(1)(2)(3)(4)(5)(6)(7)(8)(9)\n"
     ]
    }
   ],
   "source": [
    "build_restore_train()"
   ]
  },
  {
   "cell_type": "markdown",
   "metadata": {},
   "source": [
    "<h1>  image size 100 by 100 9000 training examples and epochs 1000"
   ]
  },
  {
   "cell_type": "code",
   "execution_count": null,
   "metadata": {},
   "outputs": [],
   "source": []
  }
 ],
 "metadata": {
  "kernelspec": {
   "display_name": "Python 3",
   "language": "python",
   "name": "python3"
  },
  "language_info": {
   "codemirror_mode": {
    "name": "ipython",
    "version": 3
   },
   "file_extension": ".py",
   "mimetype": "text/x-python",
   "name": "python",
   "nbconvert_exporter": "python",
   "pygments_lexer": "ipython3",
   "version": "3.6.4"
  }
 },
 "nbformat": 4,
 "nbformat_minor": 2
}
